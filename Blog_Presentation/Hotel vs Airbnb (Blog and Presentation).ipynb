{
 "cells": [
  {
   "cell_type": "markdown",
   "metadata": {},
   "source": [
    "# Hotels vs Airbnb - Barcelona case study (proof of concept)"
   ]
  },
  {
   "cell_type": "markdown",
   "metadata": {},
   "source": [
    "## 1 - Background and motivation"
   ]
  },
  {
   "cell_type": "markdown",
   "metadata": {},
   "source": [
    "During the last few years the sharing economy has become more and more ubiquitous, from taxi riding applications, to DIY and so on. The Real Estate market is no exception and, in the Hotels, and Hospitality sector we have seen many of these examples but among them is Airbnb who has had a bigger impact. \n",
    "\n",
    "Assessing the impact that Airbnb and see how hotels prices compare to those offered by Airbnb is the main objective of this study. We don´t aim to do in depth study considering all possible outcomes and variables and indeed we should analyse more in detail the Airbnb that we have used but despite these shortfalls we present an initial picture of how the competition between Airbnb and the Hotels within the city of Barcelona looks like.\n",
    "\n",
    "We have used two main datasets. The hotels data has been obtained scraping data from the__[Tripadvisor.com](http://tripadvisor.com/)__ website, we will get more in detail soon, and the Airbnb datasets were downloaded from the site __[insideairbnb.com](http://insideairbnb.com/)__"
   ]
  },
  {
   "cell_type": "markdown",
   "metadata": {},
   "source": [
    "## 2 - Scraping Tripadvisor Hotels dataset"
   ]
  },
  {
   "cell_type": "markdown",
   "metadata": {},
   "source": [
    "Scraping has become more and more popular recently due to the amount of data present nowadays in the web. Scraping TripAdvisor has allowed us to extract a complete list of the hotels in Barcelona (518 in total) together with price information (for 418 of them). The price data it’s expressed in USD for a room for two people the night of the 22nd of October of 2018. We decided that date because is already low season in Barcelona allowing us this way to make a more direct comparison with Airbnb prices. \n",
    "For scraping we used a Python environment and two of the main scraping libraries: Selenium and Scrapy. Selenium was needed due to the amount of choices the TripAdvisor website allows to users. This way we could filter the data to just only show hotels and choose the 10-22-2018 date we just mentioned."
   ]
  },
  {
   "cell_type": "markdown",
   "metadata": {},
   "source": [
    "\n",
    "<img src=\"workflow.png\" title=\"Workflow\" />\n"
   ]
  },
  {
   "cell_type": "markdown",
   "metadata": {},
   "source": [
    "One of the downsides of Selenium is the speed reason why we specifically decided not to load any images during the scraping process, this way we speed up the process. With Selenium we were able to get a complete list of the hotels in Barcelona with its prices and a link to the main Hotel TripAdvisor website, this link is the information that will allow our Scrapy crawler to get the remaining information we were looking for: The location and Star rating of each of the hotels. Scrapy then was used to speed up the gathering of information of each hotel namely the hotel full address, reviews, ranking and star rating.\n",
    "\n",
    "In the images below we can see both the hotels list exported as well as the hotels details"
   ]
  },
  {
   "cell_type": "markdown",
   "metadata": {},
   "source": [
    "<img src=\"selenium_export.png\" title=\"Selenium Export\" />\n",
    "\n",
    "<img src=\"scrapy_output.png\" title=\"Scrapy Export\" />"
   ]
  },
  {
   "cell_type": "markdown",
   "metadata": {},
   "source": [
    "## 3 - Hotels data exploration"
   ]
  },
  {
   "cell_type": "markdown",
   "metadata": {},
   "source": [
    "Using cartoframes (CARTOs Python environment for data scientists) we can easily see how the hotels are mainly concentrated in the centre of Barcelona, also with higher prices concentrated in this area.\n",
    "\n",
    "\n",
    "  \n"
   ]
  },
  {
   "cell_type": "markdown",
   "metadata": {},
   "source": [
    "<img src=\"cartoframes.png\" title=\"Cartofrmaes inspection\" />"
   ]
  },
  {
   "cell_type": "markdown",
   "metadata": {},
   "source": [
    "A further analysis into how prices varies according to the star rating is presented in the following Boxplot, which shows a steady increase of prices depending on the star rating. Further analysis should be done to analyse how reviews and sociodemographic of the area actually relate with these prices, but this wasn’t subject of this study."
   ]
  },
  {
   "cell_type": "code",
   "execution_count": 1,
   "metadata": {},
   "outputs": [
    {
     "data": {
      "text/html": [
       "<iframe width=\"100%\" height=\"400\" frameborder=\"0\" scrolling=\"no\" src=\"https://plot.ly/~natxomoreno/4/\"></iframe>"
      ],
      "text/plain": [
       "<IPython.core.display.HTML object>"
      ]
     },
     "execution_count": 1,
     "metadata": {},
     "output_type": "execute_result"
    }
   ],
   "source": [
    "import IPython\n",
    "iframe = '<iframe width=\"100%\" height=\"400\" frameborder=\"0\" scrolling=\"no\" src=\"https://plot.ly/~natxomoreno/4/\"></iframe>'\n",
    "IPython.display.HTML(iframe)"
   ]
  },
  {
   "cell_type": "markdown",
   "metadata": {},
   "source": [
    "## 4 - Price comparison "
   ]
  },
  {
   "cell_type": "markdown",
   "metadata": {},
   "source": [
    "Initially we ploted the distribution of prices for both hotels and airbnb listings to see the big picture on how they comapre. This iniital analysys already gives some initial conclusions and we see as hotels are in general more expensive that airbnb locations. "
   ]
  },
  {
   "cell_type": "code",
   "execution_count": 2,
   "metadata": {},
   "outputs": [
    {
     "data": {
      "text/html": [
       "<iframe width=\"100%\" height=\"400\" frameborder=\"0\" scrolling=\"no\" src=\"https://plot.ly/~natxomoreno/2/\"></iframe>"
      ],
      "text/plain": [
       "<IPython.core.display.HTML object>"
      ]
     },
     "execution_count": 2,
     "metadata": {},
     "output_type": "execute_result"
    }
   ],
   "source": [
    "import IPython\n",
    "iframe = '<iframe width=\"100%\" height=\"400\" frameborder=\"0\" scrolling=\"no\" src=\"https://plot.ly/~natxomoreno/2/\"></iframe>'\n",
    "IPython.display.HTML(iframe)"
   ]
  },
  {
   "cell_type": "markdown",
   "metadata": {},
   "source": [
    "For more in detail comparison we used the simple yet effective Machine Learning algorithm of nearest neighbours. For this purpose, we used R software and the package nngeo which computes the K-nearest neighbour calculations considering the geographic attributes of the locations considered. We computed the K=20 nearest neighbours limiting our search to the locations within a radius of 500 m.  Both the considered Airbnb locations as well as the lines connecting them to each hotel are represented in the map. For this purpose where only selected airbnb listings wiht a 'Real Bed' and with accomodation for between 1 and 3 people, in order to compare like for like."
   ]
  },
  {
   "cell_type": "markdown",
   "metadata": {},
   "source": [
    "<img src=\"nearest.png\" title=\"Nearest Neightbour represntation\" />"
   ]
  },
  {
   "cell_type": "markdown",
   "metadata": {},
   "source": [
    "Finally, we computed the average price for all the 20 locations near to our target hotel and also the difference to the actual hotel price. This is the main dataset presented in this study and that is shown on the interactive map done with CARTO. \n",
    "\n",
    "Some of the **main conclusions** that can be extracted from the analysis are:\n",
    "\n",
    "- Budget hotels (1 nad 2 stars) are the less affected by Airbnb listings with just a difference of $14 dollars per night among them.\n",
    "- Hotels more centrally located show more fierce competitions with their Airbnb neighbours, with less central hotels less affected. \n",
    "- Luxury hotels are the ones that present biggest differences, but as mentioned previously we should further work on the Airbnb data to make like for like comparisons in this segment of the market.\n",
    "- Finally, there are a few hotels that show a cheaper price than their Airbnb neighbours, so look for those!\n",
    "\n",
    "__[Click here to access the map](https://natxnycdsa.carto.com/builder/ba31d107-86ce-4ccc-b32d-b7ca78b611bf/embed?)__ \n",
    "\n",
    "\n"
   ]
  },
  {
   "cell_type": "markdown",
   "metadata": {},
   "source": [
    "**Finally as a conclusion just to highlight how this type of analysis shows how individual hotels are affected by Airbnb competition and can also be used in order to decide where to locate a new hotel.**"
   ]
  }
 ],
 "metadata": {
  "celltoolbar": "Raw Cell Format",
  "kernelspec": {
   "display_name": "Python 3",
   "language": "python",
   "name": "python3"
  },
  "language_info": {
   "codemirror_mode": {
    "name": "ipython",
    "version": 3
   },
   "file_extension": ".py",
   "mimetype": "text/x-python",
   "name": "python",
   "nbconvert_exporter": "python",
   "pygments_lexer": "ipython3",
   "version": "3.6.4"
  }
 },
 "nbformat": 4,
 "nbformat_minor": 2
}
